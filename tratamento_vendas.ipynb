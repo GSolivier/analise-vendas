{
 "cells": [
  {
   "cell_type": "code",
   "execution_count": 120,
   "metadata": {},
   "outputs": [
    {
     "name": "stdout",
     "output_type": "stream",
     "text": [
      "          data         loja         categoria          produto  quantidade  \\\n",
      "0   2024-07-20  Vento Norte  ELETRODOMESTICOS        Aquecedor         5.0   \n",
      "1   2024-05-30  Vento Norte           sazonal     Guarda-chuva         6.0   \n",
      "2   2024-01-25  Vento Norte            roupas            Calça         8.0   \n",
      "3   2024-07-10  Chuva Clara            roupas           Casaco         5.0   \n",
      "4   2024-05-29    Porto Sol          infantil   Blusa Infantil         NaN   \n",
      "..         ...          ...               ...              ...         ...   \n",
      "495 2024-08-23    Porto Sol  eletrodomesticos       Ventilador         4.0   \n",
      "496 2024-12-19  Vento Norte  eletrodomesticos       Ventilador         1.0   \n",
      "497 2024-05-12    Vila Neve          infantil   Blusa Infantil         6.0   \n",
      "498 2024-03-08    Vila Neve  eletrodomesticos  Ar-condicionado         1.0   \n",
      "499 2024-07-25  Vento Norte           sazonal     Guarda-chuva         3.0   \n",
      "\n",
      "     valor_venda  \n",
      "0         405.55  \n",
      "1        2866.20  \n",
      "2        3292.72  \n",
      "3        1294.95  \n",
      "4            NaN  \n",
      "..           ...  \n",
      "495      1545.72  \n",
      "496       230.89  \n",
      "497       441.30  \n",
      "498       293.93  \n",
      "499      1479.81  \n",
      "\n",
      "[500 rows x 6 columns]\n"
     ]
    }
   ],
   "source": [
    "import pandas as pd\n",
    "import matplotlib.pyplot as plt\n",
    "\n",
    "df = pd.read_excel('vendas.xlsx')\n",
    "\n",
    "print(df)"
   ]
  },
  {
   "cell_type": "code",
   "execution_count": 121,
   "metadata": {},
   "outputs": [
    {
     "name": "stdout",
     "output_type": "stream",
     "text": [
      "0      eletrodomesticos\n",
      "1               sazonal\n",
      "2                roupas\n",
      "3                roupas\n",
      "4              infantil\n",
      "             ...       \n",
      "495    eletrodomesticos\n",
      "496    eletrodomesticos\n",
      "497            infantil\n",
      "498    eletrodomesticos\n",
      "499             sazonal\n",
      "Name: categoria, Length: 500, dtype: object\n"
     ]
    }
   ],
   "source": [
    "# 1. Padronizar a coluna categoria para minúsculas.\n",
    "\n",
    "df['categoria'] = df['categoria'].str.lower()\n",
    "\n",
    "print(df['categoria'])"
   ]
  },
  {
   "cell_type": "code",
   "execution_count": 122,
   "metadata": {},
   "outputs": [
    {
     "name": "stdout",
     "output_type": "stream",
     "text": [
      "0      5.0\n",
      "1      6.0\n",
      "2      8.0\n",
      "3      5.0\n",
      "5      2.0\n",
      "      ... \n",
      "495    4.0\n",
      "496    1.0\n",
      "497    6.0\n",
      "498    1.0\n",
      "499    3.0\n",
      "Name: quantidade, Length: 455, dtype: float64\n"
     ]
    }
   ],
   "source": [
    "# 2. Remover registros onde a quantidade está ausente\n",
    "\n",
    "df = df[df['quantidade'].notna()]\n",
    "\n",
    "print(df['quantidade'])"
   ]
  },
  {
   "cell_type": "code",
   "execution_count": 123,
   "metadata": {},
   "outputs": [],
   "source": [
    "# 3. Remover espaçoes extras e padronizar com primeira letra maiuscula\n",
    "\n",
    "df['loja'] = df['loja'].str.strip()\n",
    "df['categoria'] = df['categoria'].str.strip()\n",
    "df['categoria'] = df['categoria'].str.capitalize()\n",
    "df['produto'] = df['produto'].str.strip()"
   ]
  },
  {
   "cell_type": "code",
   "execution_count": 124,
   "metadata": {},
   "outputs": [],
   "source": [
    "# 4. Garantir que a coluna data seja datetime\n",
    "\n",
    "df['data'] = pd.to_datetime(df['data'])"
   ]
  },
  {
   "cell_type": "code",
   "execution_count": 125,
   "metadata": {},
   "outputs": [
    {
     "name": "stdout",
     "output_type": "stream",
     "text": [
      "          data         loja         categoria          produto  quantidade  \\\n",
      "0   2024-07-20  Vento Norte  Eletrodomesticos        Aquecedor         5.0   \n",
      "1   2024-05-30  Vento Norte           Sazonal     Guarda-chuva         6.0   \n",
      "2   2024-01-25  Vento Norte            Roupas            Calça         8.0   \n",
      "3   2024-07-10  Chuva Clara            Roupas           Casaco         5.0   \n",
      "5   2024-08-31    Porto Sol           Sazonal    Manta térmica         2.0   \n",
      "..         ...          ...               ...              ...         ...   \n",
      "495 2024-08-23    Porto Sol  Eletrodomesticos       Ventilador         4.0   \n",
      "496 2024-12-19  Vento Norte  Eletrodomesticos       Ventilador         1.0   \n",
      "497 2024-05-12    Vila Neve          Infantil   Blusa Infantil         6.0   \n",
      "498 2024-03-08    Vila Neve  Eletrodomesticos  Ar-condicionado         1.0   \n",
      "499 2024-07-25  Vento Norte           Sazonal     Guarda-chuva         3.0   \n",
      "\n",
      "     valor_venda  valor_unitario  \n",
      "0         405.55           81.11  \n",
      "1        2866.20          477.70  \n",
      "2        3292.72          411.59  \n",
      "3        1294.95          258.99  \n",
      "5         957.96          478.98  \n",
      "..           ...             ...  \n",
      "495      1545.72          386.43  \n",
      "496       230.89          230.89  \n",
      "497       441.30           73.55  \n",
      "498       293.93          293.93  \n",
      "499      1479.81          493.27  \n",
      "\n",
      "[455 rows x 7 columns]\n"
     ]
    }
   ],
   "source": [
    "# 5. Calcular valor unitário real das vendas válidas\n",
    "\n",
    "df['valor_unitario'] = df['valor_venda'] / df['quantidade']\n",
    "\n",
    "print(df)"
   ]
  },
  {
   "cell_type": "code",
   "execution_count": 126,
   "metadata": {},
   "outputs": [
    {
     "name": "stdout",
     "output_type": "stream",
     "text": [
      "          data         loja         categoria          produto  quantidade  \\\n",
      "0   2024-07-20  Vento Norte  Eletrodomesticos        Aquecedor         5.0   \n",
      "1   2024-05-30  Vento Norte           Sazonal     Guarda-chuva         6.0   \n",
      "2   2024-01-25  Vento Norte            Roupas            Calça         8.0   \n",
      "3   2024-07-10  Chuva Clara            Roupas           Casaco         5.0   \n",
      "5   2024-08-31    Porto Sol           Sazonal    Manta térmica         2.0   \n",
      "..         ...          ...               ...              ...         ...   \n",
      "495 2024-08-23    Porto Sol  Eletrodomesticos       Ventilador         4.0   \n",
      "496 2024-12-19  Vento Norte  Eletrodomesticos       Ventilador         1.0   \n",
      "497 2024-05-12    Vila Neve          Infantil   Blusa Infantil         6.0   \n",
      "498 2024-03-08    Vila Neve  Eletrodomesticos  Ar-condicionado         1.0   \n",
      "499 2024-07-25  Vento Norte           Sazonal     Guarda-chuva         3.0   \n",
      "\n",
      "     valor_venda  valor_unitario  \n",
      "0         405.55           81.11  \n",
      "1        2866.20          477.70  \n",
      "2        3292.72          411.59  \n",
      "3        1294.95          258.99  \n",
      "5         957.96          478.98  \n",
      "..           ...             ...  \n",
      "495      1545.72          386.43  \n",
      "496       230.89          230.89  \n",
      "497       441.30           73.55  \n",
      "498       293.93          293.93  \n",
      "499      1479.81          493.27  \n",
      "\n",
      "[455 rows x 7 columns]\n"
     ]
    },
    {
     "name": "stderr",
     "output_type": "stream",
     "text": [
      "C:\\Users\\42634177801\\AppData\\Local\\Temp\\ipykernel_17360\\3119631743.py:3: FutureWarning: A value is trying to be set on a copy of a DataFrame or Series through chained assignment using an inplace method.\n",
      "The behavior will change in pandas 3.0. This inplace method will never work because the intermediate object on which we are setting values always behaves as a copy.\n",
      "\n",
      "For example, when doing 'df[col].method(value, inplace=True)', try using 'df.method({col: value}, inplace=True)' or df[col] = df[col].method(value) instead, to perform the operation inplace on the original object.\n",
      "\n",
      "\n",
      "  df['valor_unitario'].fillna(df['valor_unitario'].mean(), inplace=True)\n"
     ]
    }
   ],
   "source": [
    "# 6. Calcular valor médio unitário por produto (sem considerar nulos)\n",
    "\n",
    "df['valor_unitario'].fillna(df['valor_unitario'].mean(), inplace=True)\n",
    "\n",
    "print(df)"
   ]
  },
  {
   "cell_type": "code",
   "execution_count": 127,
   "metadata": {},
   "outputs": [
    {
     "name": "stderr",
     "output_type": "stream",
     "text": [
      "C:\\Users\\42634177801\\AppData\\Local\\Temp\\ipykernel_17360\\3658403647.py:3: FutureWarning: A value is trying to be set on a copy of a DataFrame or Series through chained assignment using an inplace method.\n",
      "The behavior will change in pandas 3.0. This inplace method will never work because the intermediate object on which we are setting values always behaves as a copy.\n",
      "\n",
      "For example, when doing 'df[col].method(value, inplace=True)', try using 'df.method({col: value}, inplace=True)' or df[col] = df[col].method(value) instead, to perform the operation inplace on the original object.\n",
      "\n",
      "\n",
      "  df['valor_venda'].fillna(df['valor_venda'].mean(), inplace=True)\n"
     ]
    }
   ],
   "source": [
    "# 9. Recalcular valor_venda\n",
    "\n",
    "df['valor_venda'].fillna(df['valor_venda'].mean(), inplace=True)"
   ]
  },
  {
   "cell_type": "code",
   "execution_count": 128,
   "metadata": {},
   "outputs": [],
   "source": [
    "# 10. Salvar novo df\n",
    "\n",
    "df.to_excel(\"vendas_tratado.xlsx\", index=False)"
   ]
  }
 ],
 "metadata": {
  "kernelspec": {
   "display_name": "Python 3",
   "language": "python",
   "name": "python3"
  },
  "language_info": {
   "codemirror_mode": {
    "name": "ipython",
    "version": 3
   },
   "file_extension": ".py",
   "mimetype": "text/x-python",
   "name": "python",
   "nbconvert_exporter": "python",
   "pygments_lexer": "ipython3",
   "version": "3.12.1"
  }
 },
 "nbformat": 4,
 "nbformat_minor": 2
}
